{
 "cells": [
  {
   "cell_type": "code",
   "execution_count": null,
   "id": "0f673574-6a2f-4935-abb2-a116f6504dd7",
   "metadata": {
    "ExecutionIndicator": {
     "show": true
    },
    "tags": []
   },
   "outputs": [],
   "source": [
    "#from modelscope import snapshot_download\n",
    "#model_dir = snapshot_download('LLM-Research/Meta-Llama-3-8B-Instruct', cache_dir='.')"
   ]
  },
  {
   "cell_type": "code",
   "execution_count": 3,
   "id": "3f091c30-b539-4c3f-aa8d-0cc4f5a130a0",
   "metadata": {
    "execution": {
     "iopub.execute_input": "2024-08-31T21:26:36.208406Z",
     "iopub.status.busy": "2024-08-31T21:26:36.208081Z",
     "iopub.status.idle": "2024-08-31T21:26:36.468056Z",
     "shell.execute_reply": "2024-08-31T21:26:36.467584Z",
     "shell.execute_reply.started": "2024-08-31T21:26:36.208387Z"
    },
    "tags": []
   },
   "outputs": [],
   "source": [
    "import pandas as pd"
   ]
  },
  {
   "cell_type": "code",
   "execution_count": 39,
   "id": "d6c4332a-d041-4a34-b40d-96f30121f3e5",
   "metadata": {
    "ExecutionIndicator": {
     "show": false
    },
    "execution": {
     "iopub.execute_input": "2024-08-31T22:18:02.549850Z",
     "iopub.status.busy": "2024-08-31T22:18:02.549512Z",
     "iopub.status.idle": "2024-08-31T22:18:02.554146Z",
     "shell.execute_reply": "2024-08-31T22:18:02.553565Z",
     "shell.execute_reply.started": "2024-08-31T22:18:02.549831Z"
    },
    "tags": []
   },
   "outputs": [],
   "source": [
    "class StreamGenerator:\n",
    "    def __init__(self):\n",
    "        self.counter = {}\n",
    "\n",
    "    def generate_code(self, school: str, department: str, professor: str) -> str:\n",
    "        # 学校-专业作为主键\n",
    "        key = f\"{school}-{department}\"\n",
    "\n",
    "        # if没有该学校-专业的记录，新建\n",
    "        if key not in self.counter:\n",
    "            self.counter[key] = 0\n",
    "\n",
    "        self.counter[key] += 1\n",
    "\n",
    "        # 格式化编码\n",
    "        school_code = school.zfill(3)  # 学校代码\n",
    "        dept_code = department[:3].upper()  # 取专业分类前3个字符的大写字母\n",
    "        prof_number = str(self.counter[key]).zfill(3)  # 将编号补零成3位\n",
    "\n",
    "        # 生成编码\n",
    "        unique_code = f\"{school_code}-{dept_code}-{prof_number}\"\n",
    "\n",
    "        return unique_code"
   ]
  },
  {
   "cell_type": "code",
   "execution_count": 40,
   "id": "27571426-3c96-4feb-a377-45daf4b3681e",
   "metadata": {
    "ExecutionIndicator": {
     "show": true
    },
    "execution": {
     "iopub.execute_input": "2024-08-31T22:18:04.320012Z",
     "iopub.status.busy": "2024-08-31T22:18:04.319690Z",
     "iopub.status.idle": "2024-08-31T22:18:04.333779Z",
     "shell.execute_reply": "2024-08-31T22:18:04.333319Z",
     "shell.execute_reply.started": "2024-08-31T22:18:04.319992Z"
    },
    "tags": []
   },
   "outputs": [],
   "source": [
    "# 读取 CSV 文件  \n",
    "df = pd.read_csv('Physics_with_code.csv').drop_duplicates()   \n",
    "\n",
    "# 初始化 StreamGenerator 实例  \n",
    "generator = StreamGenerator()  \n",
    "\n",
    "# 为每一行生成流水编码  \n",
    "df['Unique_Code'] = df.apply(lambda row: generator.generate_code(str(row['code']), 'Physics', row['Faculty']), axis=1)  \n",
    "\n",
    "# 保存到新的 CSV 文件  \n",
    "df.to_csv('output_with_codes.csv', index=False)  "
   ]
  },
  {
   "cell_type": "code",
   "execution_count": 41,
   "id": "487d3795-07bb-4ff5-bafa-7df33d67d7fb",
   "metadata": {
    "ExecutionIndicator": {
     "show": true
    },
    "execution": {
     "iopub.execute_input": "2024-08-31T22:18:06.293226Z",
     "iopub.status.busy": "2024-08-31T22:18:06.292888Z",
     "iopub.status.idle": "2024-08-31T22:18:06.301500Z",
     "shell.execute_reply": "2024-08-31T22:18:06.300992Z",
     "shell.execute_reply.started": "2024-08-31T22:18:06.293207Z"
    },
    "tags": []
   },
   "outputs": [
    {
     "name": "stdout",
     "output_type": "stream",
     "text": [
      "'unique_code'列中没有重复的行。\n"
     ]
    }
   ],
   "source": [
    "import pandas as pd  \n",
    "\n",
    "# 读取CSV文件  \n",
    "file_path = 'output_with_codes.csv'  \n",
    "df = pd.read_csv(file_path)  \n",
    "\n",
    "# 检查'unique_code'列中的重复值  \n",
    "duplicates = df[df.duplicated(subset=['Unique_Code'], keep=False)]  \n",
    "\n",
    "# 输出重复行  \n",
    "if not duplicates.empty:  \n",
    "    print(\"以下是'unique_code'列中重复的行：\")  \n",
    "    print(duplicates)  \n",
    "else:  \n",
    "    print(\"'unique_code'列中没有重复的行。\")"
   ]
  },
  {
   "cell_type": "code",
   "execution_count": 42,
   "id": "16153a05-1fd0-4b6b-939b-3a94b0d0d527",
   "metadata": {
    "execution": {
     "iopub.execute_input": "2024-08-31T22:18:08.663158Z",
     "iopub.status.busy": "2024-08-31T22:18:08.662845Z",
     "iopub.status.idle": "2024-08-31T22:18:08.667294Z",
     "shell.execute_reply": "2024-08-31T22:18:08.666654Z",
     "shell.execute_reply.started": "2024-08-31T22:18:08.663139Z"
    },
    "tags": []
   },
   "outputs": [
    {
     "name": "stdout",
     "output_type": "stream",
     "text": [
      "0      064-PHY-001\n",
      "1      064-PHY-002\n",
      "2      064-PHY-003\n",
      "3      064-PHY-004\n",
      "4      064-PHY-005\n",
      "          ...     \n",
      "267    411-PHY-001\n",
      "268    411-PHY-002\n",
      "269    411-PHY-003\n",
      "270    411-PHY-004\n",
      "271    411-PHY-005\n",
      "Name: Unique_Code, Length: 272, dtype: object\n"
     ]
    }
   ],
   "source": [
    "print(df['Unique_Code'])"
   ]
  },
  {
   "cell_type": "code",
   "execution_count": 46,
   "id": "624e8388-382f-410e-9984-2de8565b5e40",
   "metadata": {
    "ExecutionIndicator": {
     "show": true
    },
    "execution": {
     "iopub.execute_input": "2024-08-31T22:53:00.689413Z",
     "iopub.status.busy": "2024-08-31T22:53:00.689090Z",
     "iopub.status.idle": "2024-08-31T22:53:00.700605Z",
     "shell.execute_reply": "2024-08-31T22:53:00.700154Z",
     "shell.execute_reply.started": "2024-08-31T22:53:00.689395Z"
    },
    "tags": []
   },
   "outputs": [
    {
     "name": "stdout",
     "output_type": "stream",
     "text": [
      "已生成文件：output_with_codes.csv\n"
     ]
    }
   ],
   "source": [
    "import pandas as pd  \n",
    "\n",
    "# 读取CSV文件  \n",
    "file_path = 'output_with_codes.csv'  \n",
    "df = pd.read_csv(file_path)  \n",
    "\n",
    "# 定义映射规则  \n",
    "priority_mapping = {  \n",
    "    4: 'Low',  \n",
    "    3: 'Medium',  \n",
    "    2: 'High',  \n",
    "    1: 'Very High',  \n",
    "}  \n",
    "\n",
    "# 检查是否有'send_priority'列，并进行映射  \n",
    "if 'send_priority' in df.columns:  \n",
    "    df['send_priority'] = df['send_priority'].map(priority_mapping)  \n",
    "else:  \n",
    "    print(\"'send_priority'列在数据集中不存在。\")  \n",
    "\n",
    "# 保存为新的CSV文件，保存映射后的结果  \n",
    "output_file = 'output_with_codes.csv'  \n",
    "df.to_csv(output_file, index=False)  \n",
    "\n",
    "print(f\"已生成文件：{output_file}\")"
   ]
  },
  {
   "cell_type": "code",
   "execution_count": 47,
   "id": "183d938e-724c-4016-8373-82cb1ad193ce",
   "metadata": {
    "ExecutionIndicator": {
     "show": true
    },
    "execution": {
     "iopub.execute_input": "2024-08-31T22:53:10.153515Z",
     "iopub.status.busy": "2024-08-31T22:53:10.153222Z",
     "iopub.status.idle": "2024-08-31T22:53:10.176208Z",
     "shell.execute_reply": "2024-08-31T22:53:10.175712Z",
     "shell.execute_reply.started": "2024-08-31T22:53:10.153496Z"
    },
    "tags": []
   },
   "outputs": [],
   "source": [
    "import pandas as pd  \n",
    "\n",
    "# 读取CSV文件  \n",
    "df = pd.read_csv('output_with_codes.csv')  \n",
    "\n",
    "# 打开一个TXT文件以写入  \n",
    "with open('Physics.txt', 'w', encoding='utf-8') as file:  \n",
    "    # 遍历每一行，格式化文本并写入文件  \n",
    "    for _, row in df.iterrows():  \n",
    "        # 格式化每一行  \n",
    "        line = (f\"Ranked {row['Rank']}, {row['University']} has a faculty member \"  \n",
    "                f\"named {row['Faculty']} who holds the title of {row['Title']}. \"  \n",
    "                f\"They are involved in {row['Research']} research. \"  \n",
    "                f\"More information can be found on their website: {row['Website']}. \"  \n",
    "                f\"Contact them via email: {row['Email']}. \"  \n",
    "                f\"Status: {row['Status']}, Chinese: {row['is_chinese']}, \"  \n",
    "                f\"Send Priority: {row['send_priority']}, \"  \n",
    "                f\"Full Research: {row['full_research']}, \"  \n",
    "                f\"Unique Code: {row['Unique_Code']}.\\n\")  \n",
    "        # 写入TXT文件  \n",
    "        file.write(line)  "
   ]
  },
  {
   "cell_type": "markdown",
   "id": "0e8cc403-69b2-4185-894f-4888796518a8",
   "metadata": {},
   "source": [
    "## 学校代码"
   ]
  },
  {
   "cell_type": "code",
   "execution_count": 12,
   "id": "e98b4bd8-69d4-4ae2-9220-ef313cfd4250",
   "metadata": {
    "ExecutionIndicator": {
     "show": true
    },
    "execution": {
     "iopub.execute_input": "2024-08-31T22:00:24.752106Z",
     "iopub.status.busy": "2024-08-31T22:00:24.751772Z",
     "iopub.status.idle": "2024-08-31T22:00:24.764465Z",
     "shell.execute_reply": "2024-08-31T22:00:24.764033Z",
     "shell.execute_reply.started": "2024-08-31T22:00:24.752086Z"
    },
    "tags": []
   },
   "outputs": [
    {
     "name": "stdout",
     "output_type": "stream",
     "text": [
      "已生成文件：schol_code.csv\n"
     ]
    }
   ],
   "source": [
    "import pandas as pd  \n",
    "\n",
    "# 读取CSV文件  \n",
    "input_file = 'qs-world-rankings-2025.csv'  \n",
    "df = pd.read_csv(input_file)  \n",
    "\n",
    "# 截取前500行  \n",
    "df_top_500 = df.head(500)  \n",
    "\n",
    "# 按'Institution Name'列的首字母排序  \n",
    "df_sorted_by_name = df_top_500.sort_values(by='Institution Name')  \n",
    "\n",
    "# 生成编号列，从001到500  \n",
    "df_sorted_by_name['code'] = range(1, 501)  \n",
    "df_sorted_by_name['code'] = df_sorted_by_name['code'].apply(lambda x: str(x).zfill(3))  \n",
    "\n",
    "# 只保留'Institution Name'和'code'列  \n",
    "df_result = df_sorted_by_name[['Institution Name', 'code']]  \n",
    "\n",
    "# 保存为新的CSV文件  \n",
    "output_file = 'schol_code.csv'  \n",
    "df_result.to_csv(output_file, index=False)  \n",
    "\n",
    "print(f\"已生成文件：{output_file}\")"
   ]
  },
  {
   "cell_type": "code",
   "execution_count": 25,
   "id": "ef377e9f-704b-4a74-82d9-21a1783b3050",
   "metadata": {
    "ExecutionIndicator": {
     "show": true
    },
    "execution": {
     "iopub.execute_input": "2024-08-31T22:12:32.446991Z",
     "iopub.status.busy": "2024-08-31T22:12:32.446672Z",
     "iopub.status.idle": "2024-08-31T22:12:32.462036Z",
     "shell.execute_reply": "2024-08-31T22:12:32.461581Z",
     "shell.execute_reply.started": "2024-08-31T22:12:32.446972Z"
    },
    "tags": []
   },
   "outputs": [
    {
     "name": "stdout",
     "output_type": "stream",
     "text": [
      "已生成文件：Physics_with_code.csv\n"
     ]
    }
   ],
   "source": [
    "import pandas as pd  \n",
    "import warnings  \n",
    "# 忽略FutureWarning  \n",
    "warnings.simplefilter(action='ignore', category=FutureWarning)  \n",
    "\n",
    "\n",
    "# 读取Physics.csv文件  \n",
    "physics_file = 'Physics.csv'  \n",
    "physics_df = pd.read_csv(physics_file)  \n",
    "\n",
    "# 读取schol_code.csv文件  \n",
    "school_code_file = 'schol_code.csv'  \n",
    "school_code_df = pd.read_csv(school_code_file)  \n",
    "\n",
    "# 确保'school_code_df'中的'code'列为字符串格式  \n",
    "school_code_df['code'] = school_code_df['code'].astype(str)  \n",
    "\n",
    "# 合并两个数据框，基于Physics.csv中的'University'列和schol_code.csv中的'Institution Name'列  \n",
    "result_df = pd.merge(physics_df, school_code_df, left_on='University', right_on='Institution Name', how='left')  \n",
    "# 确保先将'code'列转为字符串  \n",
    "result_df.loc[:, 'code'] = result_df.loc[:, 'code'].astype(str)  \n",
    "\n",
    "# 然后再进行zfill操作  \n",
    "result_df.loc[:, 'code'] = result_df['code'].apply(lambda x: str(x).zfill(3))\n",
    "# 保存合并后的数据框为新的CSV文件  \n",
    "output_file = 'Physics_with_code.csv'  \n",
    "result_df.to_csv(output_file, index=False)  \n",
    "\n",
    "print(f\"已生成文件：{output_file}\")"
   ]
  },
  {
   "cell_type": "code",
   "execution_count": null,
   "id": "395259cd-1b0f-4b82-900e-58754cb8d336",
   "metadata": {},
   "outputs": [],
   "source": []
  }
 ],
 "metadata": {
  "kernelspec": {
   "display_name": "Python 3 (ipykernel)",
   "language": "python",
   "name": "python3"
  },
  "language_info": {
   "codemirror_mode": {
    "name": "ipython",
    "version": 3
   },
   "file_extension": ".py",
   "mimetype": "text/x-python",
   "name": "python",
   "nbconvert_exporter": "python",
   "pygments_lexer": "ipython3",
   "version": "3.10.14"
  }
 },
 "nbformat": 4,
 "nbformat_minor": 5
}
